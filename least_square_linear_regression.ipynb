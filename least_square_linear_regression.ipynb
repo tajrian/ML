{
 "cells": [
  {
   "cell_type": "code",
   "execution_count": 9,
   "metadata": {},
   "outputs": [],
   "source": [
    "\n",
    "X = [1,2,3,4,5]\n",
    "y = [4,12,28,52,80]"
   ]
  },
  {
   "cell_type": "code",
   "execution_count": 10,
   "metadata": {},
   "outputs": [],
   "source": [
    "from statistics import mean\n",
    "x_mean = mean(X)\n",
    "y_mean = mean(y)"
   ]
  },
  {
   "cell_type": "code",
   "execution_count": 13,
   "metadata": {},
   "outputs": [
    {
     "name": "stdout",
     "output_type": "stream",
     "text": [
      "19.2 -22.39999999999999\n"
     ]
    }
   ],
   "source": [
    "l = len(X)\n",
    "rise = 0\n",
    "run = 0\n",
    "for i in range(0,l):\n",
    "    xs = (X[i]-x_mean)\n",
    "    rise+= (xs*(y[i]-y_mean))\n",
    "    run+=  xs*xs\n",
    "\n",
    "theta_1 = rise/run\n",
    "theta_0 =y_mean - (theta_1*x_mean)\n",
    "print(theta_1,theta_0)\n"
   ]
  },
  {
   "cell_type": "code",
   "execution_count": null,
   "metadata": {},
   "outputs": [],
   "source": [
    "new_y = theta_0 + theta_1*new_x"
   ]
  }
 ],
 "metadata": {
  "kernelspec": {
   "display_name": "Python 3",
   "language": "python",
   "name": "python3"
  },
  "language_info": {
   "codemirror_mode": {
    "name": "ipython",
    "version": 3
   },
   "file_extension": ".py",
   "mimetype": "text/x-python",
   "name": "python",
   "nbconvert_exporter": "python",
   "pygments_lexer": "ipython3",
   "version": "3.7.3"
  }
 },
 "nbformat": 4,
 "nbformat_minor": 2
}
